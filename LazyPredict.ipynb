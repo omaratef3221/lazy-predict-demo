{
  "nbformat": 4,
  "nbformat_minor": 0,
  "metadata": {
    "colab": {
      "provenance": []
    },
    "kernelspec": {
      "name": "python3",
      "display_name": "Python 3"
    },
    "language_info": {
      "name": "python"
    }
  },
  "cells": [
    {
      "cell_type": "code",
      "source": [
        "!pip install opendatasets --quiet\n",
        "import warnings\n",
        "warnings.filterwarnings('ignore')\n",
        "import opendatasets as od\n",
        "od.download(\"https://www.kaggle.com/datasets/abhishek14398/salary-dataset-simple-linear-regression\")"
      ],
      "metadata": {
        "id": "hp2PoyhRxYsQ"
      },
      "execution_count": null,
      "outputs": []
    },
    {
      "cell_type": "code",
      "source": [
        "!pip install lazypredict --quiet"
      ],
      "metadata": {
        "id": "Ysp5CfyWxms9"
      },
      "execution_count": null,
      "outputs": []
    },
    {
      "cell_type": "markdown",
      "source": [
        "## Regression"
      ],
      "metadata": {
        "id": "9DtNrwK7xGg2"
      }
    },
    {
      "cell_type": "code",
      "source": [
        "from lazypredict.Supervised import LazyRegressor\n",
        "from sklearn.metrics import classification_report, mean_absolute_error\n",
        "from sklearn.model_selection import train_test_split\n",
        "import pandas as pd\n",
        "import numpy as np\n",
        "\n",
        "data = pd.read_csv('/content/salary-dataset-simple-linear-regression/Salary_dataset.csv')[[\"YearsExperience\", 'Salary']]\n",
        "data.head()"
      ],
      "metadata": {
        "id": "0K7xK_aYxXDJ"
      },
      "execution_count": null,
      "outputs": []
    },
    {
      "cell_type": "code",
      "source": [
        "X_train, X_test, y_train, y_test = train_test_split(np.array(data[\"YearsExperience\"]), np.array(data[\"Salary\"]), test_size = 0.3)"
      ],
      "metadata": {
        "id": "yNKivA30yEm4"
      },
      "execution_count": null,
      "outputs": []
    },
    {
      "cell_type": "code",
      "source": [
        "regressor = LazyRegressor(verbose = 0, ignore_warnings= True, custom_metric=mean_absolute_error)"
      ],
      "metadata": {
        "id": "c6UKi8EUycqc"
      },
      "execution_count": null,
      "outputs": []
    },
    {
      "cell_type": "code",
      "source": [
        "models, predictions = regressor.fit(X_train, X_test, y_train, y_test)"
      ],
      "metadata": {
        "id": "oGmLoHTlyrLV"
      },
      "execution_count": null,
      "outputs": []
    },
    {
      "cell_type": "code",
      "source": [
        "models"
      ],
      "metadata": {
        "id": "Y92CVvB-y-6m"
      },
      "execution_count": null,
      "outputs": []
    },
    {
      "cell_type": "markdown",
      "source": [
        "## Classification"
      ],
      "metadata": {
        "id": "VM-tNQsWxEgj"
      }
    },
    {
      "cell_type": "code",
      "source": [
        "od.download(\"https://www.kaggle.com/datasets/iabhishekofficial/mobile-price-classification\")"
      ],
      "metadata": {
        "id": "Hmihoqrrumap"
      },
      "execution_count": null,
      "outputs": []
    },
    {
      "cell_type": "code",
      "source": [
        "import pandas as pd\n",
        "from lazypredict.Supervised import LazyClassifier\n",
        "from sklearn.metrics import classification_report, f1_score\n",
        "from sklearn.model_selection import train_test_split\n",
        "import numpy as np\n",
        "\n",
        "data = pd.read_csv('/content/mobile-price-classification/train.csv')\n",
        "data.head()"
      ],
      "metadata": {
        "id": "yyG6GgZEzzqO"
      },
      "execution_count": null,
      "outputs": []
    },
    {
      "cell_type": "code",
      "source": [
        "X = data.iloc[:, :-1]\n",
        "Y = data.iloc[:, -1]"
      ],
      "metadata": {
        "id": "iXBFhQfb0Ooz"
      },
      "execution_count": null,
      "outputs": []
    },
    {
      "cell_type": "code",
      "source": [
        "print(X.shape)\n",
        "print(Y.shape)"
      ],
      "metadata": {
        "id": "GSkshSvd06tq"
      },
      "execution_count": null,
      "outputs": []
    },
    {
      "cell_type": "code",
      "source": [
        "X_train, X_test, y_train, y_test = train_test_split(np.array(X), np.array(Y), test_size = 0.3)"
      ],
      "metadata": {
        "id": "x47kCZbp0Eb5"
      },
      "execution_count": null,
      "outputs": []
    },
    {
      "cell_type": "code",
      "source": [
        "classifier = LazyClassifier(verbose=1, ignore_warnings=True, custom_metric=None)\n",
        "models, predictions = classifier.fit(X_train, X_test, y_train, y_test)"
      ],
      "metadata": {
        "id": "5ylbEWK50hRt"
      },
      "execution_count": null,
      "outputs": []
    },
    {
      "cell_type": "code",
      "source": [
        "predictions"
      ],
      "metadata": {
        "id": "U3hWmZnV0ta-"
      },
      "execution_count": null,
      "outputs": []
    }
  ]
}
